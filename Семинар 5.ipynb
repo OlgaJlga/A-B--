{
  "metadata": {
    "language_info": {
      "codemirror_mode": {
        "name": "python",
        "version": 3
      },
      "file_extension": ".py",
      "mimetype": "text/x-python",
      "name": "python",
      "nbconvert_exporter": "python",
      "pygments_lexer": "ipython3",
      "version": "3.8"
    },
    "kernelspec": {
      "name": "python",
      "display_name": "Python (Pyodide)",
      "language": "python"
    }
  },
  "nbformat_minor": 4,
  "nbformat": 4,
  "cells": [
    {
      "cell_type": "code",
      "source": "from math import sqrt",
      "metadata": {
        "trusted": true
      },
      "execution_count": 1,
      "outputs": []
    },
    {
      "cell_type": "code",
      "source": "p1 = 164 / 15550\np2 = 228 / 15550\nn1 = 164\nn2 = 228\nN1 = 15550\nN2 = N1\np =  (n1 * p1 + n2 * p2) / (n1 + n2)\nZ = (p1 - p2) / sqrt(p * (1 - p) * (1/N1 + 1/N2))\nZ",
      "metadata": {
        "trusted": true
      },
      "execution_count": 3,
      "outputs": [
        {
          "execution_count": 3,
          "output_type": "execute_result",
          "data": {
            "text/plain": "-3.2110930329358367"
          },
          "metadata": {}
        }
      ]
    },
    {
      "cell_type": "markdown",
      "source": "Критическое значение Z-критерия при α=5% и двухсторонней альтернативе равно 1.96. Результат -3.2110930329358367<1.96. Выходит, изменения внесенные в заказную форму дали статистически значимый эффект на уровень конверсии в покупку. Рекомендуется использовать новую форму заказа.",
      "metadata": {}
    },
    {
      "cell_type": "markdown",
      "source": "При большом размере выборки, может быть использован z-критерий. ",
      "metadata": {}
    }
  ]
}